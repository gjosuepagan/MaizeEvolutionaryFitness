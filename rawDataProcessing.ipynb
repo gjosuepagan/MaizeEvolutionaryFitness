{
  "nbformat": 4,
  "nbformat_minor": 0,
  "metadata": {
    "colab": {
      "provenance": []
    },
    "kernelspec": {
      "name": "python3",
      "display_name": "Python 3"
    },
    "language_info": {
      "name": "python"
    }
  },
  "cells": [
    {
      "cell_type": "code",
      "execution_count": 2,
      "metadata": {
        "colab": {
          "base_uri": "https://localhost:8080/"
        },
        "id": "KR3NuoHRP2oI",
        "outputId": "cb0ca461-190a-462d-cd4f-57e45a11fff5"
      },
      "outputs": [
        {
          "output_type": "stream",
          "name": "stdout",
          "text": [
            "Collecting pysam\n",
            "  Downloading pysam-0.22.1-cp310-cp310-manylinux_2_28_x86_64.whl (22.0 MB)\n",
            "\u001b[2K     \u001b[90m━━━━━━━━━━━━━━━━━━━━━━━━━━━━━━━━━━━━━━━━\u001b[0m \u001b[32m22.0/22.0 MB\u001b[0m \u001b[31m36.8 MB/s\u001b[0m eta \u001b[36m0:00:00\u001b[0m\n",
            "\u001b[?25hInstalling collected packages: pysam\n",
            "Successfully installed pysam-0.22.1\n"
          ]
        }
      ],
      "source": [
        " #!pip install pysam"
      ]
    },
    {
      "cell_type": "code",
      "source": [
        "import os\n",
        "import glob\n",
        "import pandas as pd\n",
        "import matplotlib.pyplot as plt\n",
        "import pysam\n",
        "import gzip\n",
        "from google.colab import drive\n",
        "\n",
        "# Mount Google Drive\n",
        "drive.mount('/content/drive')\n"
      ],
      "metadata": {
        "colab": {
          "base_uri": "https://localhost:8080/"
        },
        "id": "PkZ_vnFBRhtm",
        "outputId": "86b5f011-225b-4154-a3cb-18359a74ad2c"
      },
      "execution_count": 6,
      "outputs": [
        {
          "output_type": "stream",
          "name": "stdout",
          "text": [
            "Drive already mounted at /content/drive; to attempt to forcibly remount, call drive.mount(\"/content/drive\", force_remount=True).\n"
          ]
        }
      ]
    },
    {
      "cell_type": "code",
      "source": [],
      "metadata": {
        "id": "16z70cwESWEE"
      },
      "execution_count": null,
      "outputs": []
    },
    {
      "cell_type": "code",
      "source": [
        "def read_vcf(file_path):\n",
        "    \"\"\"\n",
        "    Reads a VCF file and returns a DataFrame containing the data.\n",
        "    \"\"\"\n",
        "    vcf_in = pysam.VariantFile(file_path)  # auto-detect input format\n",
        "    records = []\n",
        "\n",
        "    for record in vcf_in:\n",
        "        record_dict = {\n",
        "            \"CHROM\": record.chrom,\n",
        "            \"POS\": record.pos,\n",
        "            \"ID\": record.id,\n",
        "            \"REF\": record.ref,\n",
        "            \"ALT\": ','.join([str(alt) for alt in record.alts]),\n",
        "            \"QUAL\": record.qual,\n",
        "            \"FILTER\": ','.join(record.filter.keys()) if record.filter else 'PASS',\n",
        "            \"INFO\": record.info\n",
        "        }\n",
        "        records.append(record_dict)\n",
        "\n",
        "    df = pd.DataFrame(records)\n",
        "    return df\n",
        "\n",
        "def process_info_column(df):\n",
        "    \"\"\"\n",
        "    Processes the INFO column to expand it into separate columns.\n",
        "    \"\"\"\n",
        "    info_df = df['INFO'].apply(pd.Series)\n",
        "    df = pd.concat([df.drop(['INFO'], axis=1), info_df], axis=1)\n",
        "    return df\n",
        "\n",
        "def plot_quality_distribution(df):\n",
        "    \"\"\"\n",
        "    Plots the distribution of quality scores.\n",
        "    \"\"\"\n",
        "    plt.hist(df['QUAL'].dropna(), bins=50, color='c', edgecolor='k', alpha=0.65)\n",
        "    plt.title('Quality Score Distribution')\n",
        "    plt.xlabel('Quality Score')\n",
        "    plt.ylabel('Frequency')\n",
        "    plt.show()\n",
        "\n",
        "def plot_variant_types(df):\n",
        "    \"\"\"\n",
        "    Plots the distribution of variant types (SNPs vs. INDELs).\n",
        "    \"\"\"\n",
        "    df['VARIANT_TYPE'] = df.apply(lambda row: 'SNP' if len(row['REF']) == 1 and len(row['ALT']) == 1 else 'INDEL', axis=1)\n",
        "    variant_counts = df['VARIANT_TYPE'].value_counts()\n",
        "    variant_counts.plot(kind='bar', color='skyblue', edgecolor='black')\n",
        "    plt.title('Variant Type Distribution')\n",
        "    plt.xlabel('Variant Type')\n",
        "    plt.ylabel('Frequency')\n",
        "    plt.show()"
      ],
      "metadata": {
        "id": "JU14sIJDQ6JR"
      },
      "execution_count": 8,
      "outputs": []
    },
    {
      "cell_type": "code",
      "source": [
        "directory = '/content/drive/MyDrive/Personal Projects/MaizeEvolutionaryFitness/Trial Raw Data'\n",
        "file_paths = glob.glob(os.path.join(directory, '*.vcf.gz'))"
      ],
      "metadata": {
        "id": "IBDajlvBRqMF"
      },
      "execution_count": 7,
      "outputs": []
    },
    {
      "cell_type": "code",
      "source": [
        "count = 0\n",
        "for file_path in file_paths:\n",
        "  count += 1\n",
        "  print(f\"Processing file: {file_path}\")\n",
        "\n",
        "  # Extract the file\n",
        "  with gzip.open(file_path, 'rb') as f_in:\n",
        "      with open(file_path[:-3], 'wb') as f_out:\n",
        "          f_out.write(f_in.read())\n",
        "\n",
        "  # Read VCF file\n",
        "  df = read_vcf(file_path[:-3])\n",
        "  os.remove(file_path[:-3])  # Remove extracted file\n",
        "\n",
        "  # Process DataFrame\n",
        "  df = process_info_column(df)\n",
        "\n",
        "  print(df.head())\n",
        "\n",
        "  plot_quality_distribution(df)\n",
        "  plot_variant_types(df)\n",
        "\n",
        "  if count == 1:\n",
        "    break"
      ],
      "metadata": {
        "colab": {
          "base_uri": "https://localhost:8080/"
        },
        "id": "oZynECRbUvel",
        "outputId": "86472599-63cc-4e9e-e741-303e2f2197fc"
      },
      "execution_count": null,
      "outputs": [
        {
          "output_type": "stream",
          "name": "stdout",
          "text": [
            "Processing file: /content/drive/MyDrive/Personal Projects/MaizeEvolutionaryFitness/Trial Raw Data/chr_1_imputed.vcf.gz\n"
          ]
        }
      ]
    }
  ]
}